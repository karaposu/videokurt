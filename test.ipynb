{
 "cells": [
  {
   "cell_type": "code",
   "execution_count": 1,
   "id": "0db3a4ec",
   "metadata": {},
   "outputs": [],
   "source": [
    "from videokurt import VideoKurt"
   ]
  },
  {
   "cell_type": "code",
   "execution_count": 2,
   "id": "13535298",
   "metadata": {},
   "outputs": [],
   "source": [
    "path = \"ScreenRecording_08-26-2025 16-28-41_1.MP4\"\n",
    "path2= \"ScreenRecording_08-27-2025 16-38-43_1.MP4\""
   ]
  },
  {
   "cell_type": "code",
   "execution_count": 3,
   "id": "73c008d8",
   "metadata": {},
   "outputs": [
    {
     "name": "stdout",
     "output_type": "stream",
     "text": [
      "Analyzing ScreenRecording_08-26-2025 16-28-41_1.MP4...\n"
     ]
    }
   ],
   "source": [
    "\n",
    "vk = VideoKurt()\n",
    "\n",
    "print(f\"Analyzing {path}...\")\n",
    "result = vk.analyze_video(path2, frame_skip=1, max_seconds=30 )"
   ]
  },
  {
   "cell_type": "code",
   "execution_count": 4,
   "id": "aba3c6a0",
   "metadata": {},
   "outputs": [
    {
     "name": "stdout",
     "output_type": "stream",
     "text": [
      "Activity level: 17.8%\n",
      "Duration: 30.0 seconds\n",
      "Resolution: 886x1920\n",
      "SegmentType.IDLE: 380 frames\n",
      "SegmentType.SCROLLING: 88 frames\n",
      "SegmentType.IDLE: 280 frames\n",
      "SegmentType.SCROLLING: 232 frames\n",
      "SegmentType.IDLE: 819 frames\n"
     ]
    }
   ],
   "source": [
    "# Direct access to results via dataclass fields\n",
    "print(f\"Activity level: {result.activity_ratio:.1%}\")\n",
    "print(f\"Duration: {result.duration:.1f} seconds\")\n",
    "print(f\"Resolution: {result.resolution}\")\n",
    "\n",
    "# Access binary activity data (frame-by-frame)\n",
    "binary_activity = result.binary_activity  # Boolean array\n",
    "confidence_scores = result.binary_activity_confidence  # Float array\n",
    "\n",
    "# Get segments\n",
    "for segment in result.segments:\n",
    "    print(f\"{segment.segment_type}: {segment.duration_frames} frames\")"
   ]
  },
  {
   "cell_type": "code",
   "execution_count": 5,
   "id": "1dc6ee5e",
   "metadata": {},
   "outputs": [
    {
     "name": "stdout",
     "output_type": "stream",
     "text": [
      "\n",
      "Activity ratio: 17.8%\n",
      "Analysis took 520.83 seconds\n",
      "Found 5 segments\n",
      "\n",
      "==================================================\n",
      "ANALYSIS SUMMARY\n",
      "==================================================\n",
      "Duration: 30.0 seconds\n",
      "Resolution: 886x1920\n",
      "Activity Level: 17.8%\n",
      "Number of Segments: 5\n",
      "\n",
      "Segment Types:\n",
      "  - idle: 3 segments\n",
      "  - scrolling: 2 segments\n",
      "\n",
      "Activity Distribution:\n",
      "  - Active: 5.3s\n",
      "  - Inactive: 24.7s\n",
      "\n",
      "Video Info:\n",
      "  - Resolution: 886x1920\n",
      "  - FPS: 60.0\n",
      "  - Frame count: 1799\n",
      "  - Filename: ScreenRecording_08-27-2025 16-38-43_1.MP4\n",
      "  - Segment types: scrolling, idle\n"
     ]
    }
   ],
   "source": [
    "\n",
    "# Now we can access fields directly from the dataclass\n",
    "print(f\"\\nActivity ratio: {result.activity_ratio:.1%}\")\n",
    "print(f\"Analysis took {result.elapsed_time:.2f} seconds\")\n",
    "print(f\"Found {result.num_segments} segments\")\n",
    "\n",
    "# Print summary\n",
    "print(\"\\n\" + \"=\"*50)\n",
    "print(\"ANALYSIS SUMMARY\")\n",
    "print(\"=\"*50)\n",
    "print(f\"Duration: {result.duration:.1f} seconds\")\n",
    "print(f\"Resolution: {result.resolution}\")\n",
    "print(f\"Activity Level: {result.activity_ratio:.1%}\")\n",
    "print(f\"Number of Segments: {result.num_segments}\")\n",
    "\n",
    "# Show segment breakdown\n",
    "print(\"\\nSegment Types:\")\n",
    "segment_types = {}\n",
    "for seg in result.segments:\n",
    "    seg_type = seg.segment_type.value\n",
    "    segment_types[seg_type] = segment_types.get(seg_type, 0) + 1\n",
    "\n",
    "for seg_type, count in segment_types.items():\n",
    "    print(f\"  - {seg_type}: {count} segments\")\n",
    "\n",
    "# Show activity distribution - direct from dataclass\n",
    "print(f\"\\nActivity Distribution:\")\n",
    "print(f\"  - Active: {result.active_seconds:.1f}s\")\n",
    "print(f\"  - Inactive: {result.inactive_seconds:.1f}s\")\n",
    "\n",
    "# Additional info from dataclass\n",
    "print(f\"\\nVideo Info:\")\n",
    "print(f\"  - Resolution: {result.resolution}\")\n",
    "print(f\"  - FPS: {result.fps:.1f}\")\n",
    "print(f\"  - Frame count: {result.frame_count}\")\n",
    "print(f\"  - Filename: {result.filename}\")\n",
    "print(f\"  - Segment types: {', '.join(result.segment_types)}\")\n",
    "\n",
    "# If you need JSON output for integration with other tools\n",
    "# json_output = result.to_json()\n",
    "# print(json_output)"
   ]
  },
  {
   "cell_type": "code",
   "execution_count": null,
   "id": "b3ab3adf",
   "metadata": {},
   "outputs": [],
   "source": []
  }
 ],
 "metadata": {
  "kernelspec": {
   "display_name": ".venv",
   "language": "python",
   "name": "python3"
  },
  "language_info": {
   "codemirror_mode": {
    "name": "ipython",
    "version": 3
   },
   "file_extension": ".py",
   "mimetype": "text/x-python",
   "name": "python",
   "nbconvert_exporter": "python",
   "pygments_lexer": "ipython3",
   "version": "3.11.10"
  }
 },
 "nbformat": 4,
 "nbformat_minor": 5
}
